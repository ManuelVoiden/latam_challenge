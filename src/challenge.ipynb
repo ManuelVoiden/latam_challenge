{
 "cells": [
  {
   "cell_type": "code",
   "execution_count": 1,
   "metadata": {},
   "outputs": [],
   "source": [
    "file_path = \"../data/farmers-protest-tweets-2021-2-4.json\""
   ]
  },
  {
   "cell_type": "code",
   "execution_count": 2,
   "metadata": {},
   "outputs": [],
   "source": [
    "import pandas as pd\n",
    "import json\n",
    "import time\n",
    "import datetime\n",
    "import memory_profiler\n",
    "#import concurrent\n",
    "\n",
    "from datetime import datetime\n",
    "from memory_profiler import memory_usage\n",
    "from collections import defaultdict, Counter\n",
    "#from concurrent.futures import ProcessPoolExecutor"
   ]
  },
  {
   "cell_type": "markdown",
   "metadata": {},
   "source": [
    "### First version of q1_time"
   ]
  },
  {
   "cell_type": "code",
   "execution_count": 3,
   "metadata": {},
   "outputs": [],
   "source": [
    "def q1_time_pandas(file_path: str):\n",
    "    # Read the JSON file into a DataFrame\n",
    "    tweets_df = pd.read_json(file_path, lines=True)\n",
    "\n",
    "    # Convert the 'date' column to datetime and extract the date\n",
    "    tweets_df['date'] = pd.to_datetime(tweets_df['date']).dt.date\n",
    "\n",
    "    # Group by 'date' and count tweets, also get the most active user per date\n",
    "    top_dates_df = tweets_df.groupby('date').agg(\n",
    "        total_tweets=('date', 'size'),\n",
    "        most_active_user=('user', lambda x: x.mode()[0]['username'])\n",
    "    ).sort_values('total_tweets', ascending=False).head(10)\n",
    "\n",
    "    # Convert the result to the desired format\n",
    "    top_dates = [(row.name, row['most_active_user']) for _, row in top_dates_df.iterrows()]\n",
    "\n",
    "    return top_dates"
   ]
  },
  {
   "cell_type": "code",
   "execution_count": 9,
   "metadata": {},
   "outputs": [
    {
     "name": "stdout",
     "output_type": "stream",
     "text": [
      "[(datetime.date(2021, 2, 12), 'RanbirS00614606'), (datetime.date(2021, 2, 13), 'MaanDee08215437'), (datetime.date(2021, 2, 17), 'RaaJVinderkaur'), (datetime.date(2021, 2, 16), 'jot__b'), (datetime.date(2021, 2, 14), 'rebelpacifist'), (datetime.date(2021, 2, 18), 'neetuanjle_nitu'), (datetime.date(2021, 2, 15), 'jot__b'), (datetime.date(2021, 2, 20), 'MangalJ23056160'), (datetime.date(2021, 2, 23), 'Surrypuria'), (datetime.date(2021, 2, 19), 'Preetm91')]\n",
      "q1_memory - Execution Time: 34.3178768157959 seconds\n",
      "q1_memory - Peak Memory Usage: 3126.28125 MiB\n"
     ]
    }
   ],
   "source": [
    "#Executing q1_time_pandas and printing the result\n",
    "top_dates = q1_time_pandas(file_path)\n",
    "print(top_dates)\n",
    "\n",
    "# Timing and memory testing for q1_memory\n",
    "start_time = time.time()\n",
    "peak_memory_memory = max(memory_usage((q1_time_pandas, (file_path,))))\n",
    "end_time = time.time()\n",
    "\n",
    "print(f\"q1_memory - Execution Time: {end_time - start_time} seconds\")\n",
    "print(f\"q1_memory - Peak Memory Usage: {peak_memory_memory} MiB\")"
   ]
  },
  {
   "cell_type": "markdown",
   "metadata": {},
   "source": [
    "### Second version of q1_time optimizing the dataframe manipulation"
   ]
  },
  {
   "cell_type": "code",
   "execution_count": 11,
   "metadata": {},
   "outputs": [],
   "source": [
    "def q1_time_pandas_revised(file_path: str):\n",
    "    # Load the entire dataset into a DataFrame\n",
    "    df = pd.read_json(file_path, lines=True)\n",
    "\n",
    "    # Convert 'date' to datetime and extract the date\n",
    "    df['date'] = pd.to_datetime(df['date']).dt.date\n",
    "\n",
    "    # Extract username from the nested 'user' dictionary\n",
    "    df['username'] = df['user'].apply(lambda x: x['username'])\n",
    "\n",
    "    # Group by 'date' and count tweets, get the most active user per date\n",
    "    top_dates_df = df.groupby('date').agg(\n",
    "        total_tweets=('date', 'size'),\n",
    "        most_active_user=('username', lambda x: x.mode()[0])\n",
    "    ).sort_values('total_tweets', ascending=False).head(10).drop(columns=['total_tweets'])\n",
    "\n",
    "    # Convert to the desired format [(date, most_active_user), ...]\n",
    "    top_dates_with_users = list(top_dates_df.itertuples(index=True, name=None))\n",
    "\n",
    "    return top_dates_with_users"
   ]
  },
  {
   "cell_type": "code",
   "execution_count": 13,
   "metadata": {},
   "outputs": [
    {
     "name": "stdout",
     "output_type": "stream",
     "text": [
      "[(datetime.date(2021, 2, 12), 'RanbirS00614606'), (datetime.date(2021, 2, 13), 'MaanDee08215437'), (datetime.date(2021, 2, 17), 'RaaJVinderkaur'), (datetime.date(2021, 2, 16), 'jot__b'), (datetime.date(2021, 2, 14), 'rebelpacifist'), (datetime.date(2021, 2, 18), 'neetuanjle_nitu'), (datetime.date(2021, 2, 15), 'jot__b'), (datetime.date(2021, 2, 20), 'MangalJ23056160'), (datetime.date(2021, 2, 23), 'Surrypuria'), (datetime.date(2021, 2, 19), 'Preetm91')]\n",
      "q1_time_pandas_revised - Execution Time: 7.779937028884888 seconds\n",
      "q1_time_pandas_revised - Peak Memory Usage: 3133.21484375 MiB\n"
     ]
    }
   ],
   "source": [
    "#Executing q1_time_pandas and printing the result\n",
    "top_dates = q1_time_pandas_revised(file_path)\n",
    "print(top_dates)\n",
    "\n",
    "# Timing and memory testing for q1_time\n",
    "start_time = time.time()\n",
    "peak_memory_time = max(memory_usage((q1_time_pandas_revised, (file_path,))))\n",
    "end_time = time.time()\n",
    "\n",
    "print(f\"q1_time_pandas_revised - Execution Time: {end_time - start_time} seconds\")\n",
    "print(f\"q1_time_pandas_revised - Peak Memory Usage: {peak_memory_time} MiB\")"
   ]
  }
 ],
 "metadata": {
  "kernelspec": {
   "display_name": "base",
   "language": "python",
   "name": "python3"
  },
  "language_info": {
   "codemirror_mode": {
    "name": "ipython",
    "version": 3
   },
   "file_extension": ".py",
   "mimetype": "text/x-python",
   "name": "python",
   "nbconvert_exporter": "python",
   "pygments_lexer": "ipython3",
   "version": "3.11.5"
  }
 },
 "nbformat": 4,
 "nbformat_minor": 2
}
