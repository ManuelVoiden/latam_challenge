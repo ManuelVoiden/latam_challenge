{
 "cells": [
  {
   "cell_type": "code",
   "execution_count": 27,
   "metadata": {},
   "outputs": [],
   "source": [
    "file_path = \"../data/farmers-protest-tweets-2021-2-4.json\""
   ]
  },
  {
   "cell_type": "markdown",
   "metadata": {},
   "source": [
    "### Imports"
   ]
  },
  {
   "cell_type": "code",
   "execution_count": 40,
   "metadata": {},
   "outputs": [],
   "source": [
    "import pandas as pd\n",
    "import json\n",
    "import time\n",
    "import datetime\n",
    "import memory_profiler\n",
    "import re\n",
    "from typing import List, Tuple\n",
    "#import concurrent\n",
    "\n",
    "from datetime import datetime\n",
    "from memory_profiler import memory_usage\n",
    "from collections import defaultdict, Counter\n",
    "#from concurrent.futures import ProcessPoolExecutor"
   ]
  },
  {
   "cell_type": "markdown",
   "metadata": {},
   "source": [
    "## Q1 Time and Memory solution"
   ]
  },
  {
   "cell_type": "markdown",
   "metadata": {},
   "source": [
    "### First version of q1_time"
   ]
  },
  {
   "cell_type": "code",
   "execution_count": 8,
   "metadata": {},
   "outputs": [],
   "source": [
    "def q1_time_pandas(file_path: str):\n",
    "    # Read the JSON file into a DataFrame\n",
    "    tweets_df = pd.read_json(file_path, lines=True)\n",
    "\n",
    "    # Convert the 'date' column to datetime and extract the date\n",
    "    tweets_df['date'] = pd.to_datetime(tweets_df['date']).dt.date\n",
    "\n",
    "    # Group by 'date' and count tweets, also get the most active user per date\n",
    "    top_dates_df = tweets_df.groupby('date').agg(\n",
    "        total_tweets=('date', 'size'),\n",
    "        most_active_user=('user', lambda x: x.mode()[0]['username'])\n",
    "    ).sort_values('total_tweets', ascending=False).head(10)\n",
    "\n",
    "    # Convert the result to the desired format\n",
    "    top_dates = [(row.name, row['most_active_user']) for _, row in top_dates_df.iterrows()]\n",
    "\n",
    "    return top_dates"
   ]
  },
  {
   "cell_type": "code",
   "execution_count": 9,
   "metadata": {},
   "outputs": [
    {
     "name": "stdout",
     "output_type": "stream",
     "text": [
      "[(datetime.date(2021, 2, 12), 'RanbirS00614606'), (datetime.date(2021, 2, 13), 'MaanDee08215437'), (datetime.date(2021, 2, 17), 'RaaJVinderkaur'), (datetime.date(2021, 2, 16), 'jot__b'), (datetime.date(2021, 2, 14), 'rebelpacifist'), (datetime.date(2021, 2, 18), 'neetuanjle_nitu'), (datetime.date(2021, 2, 15), 'jot__b'), (datetime.date(2021, 2, 20), 'MangalJ23056160'), (datetime.date(2021, 2, 23), 'Surrypuria'), (datetime.date(2021, 2, 19), 'Preetm91')]\n",
      "q1_memory - Execution Time: 33.76640963554382 seconds\n",
      "q1_memory - Peak Memory Usage: 2968.328125 MiB\n"
     ]
    }
   ],
   "source": [
    "#Executing q1_time_pandas and printing the result\n",
    "top_dates = q1_time_pandas(file_path)\n",
    "print(top_dates)\n",
    "\n",
    "# Timing and memory testing for q1_memory\n",
    "start_time = time.time()\n",
    "peak_memory_memory = max(memory_usage((q1_time_pandas, (file_path,))))\n",
    "end_time = time.time()\n",
    "\n",
    "print(f\"q1_memory - Execution Time: {end_time - start_time} seconds\")\n",
    "print(f\"q1_memory - Peak Memory Usage: {peak_memory_memory} MiB\")"
   ]
  },
  {
   "cell_type": "markdown",
   "metadata": {},
   "source": [
    "### Second version of q1_time optimizing the dataframe manipulation"
   ]
  },
  {
   "cell_type": "code",
   "execution_count": 10,
   "metadata": {},
   "outputs": [],
   "source": [
    "def q1_time_pandas_revised(file_path: str):\n",
    "    # Load the entire dataset into a DataFrame\n",
    "    df = pd.read_json(file_path, lines=True)\n",
    "\n",
    "    # Convert 'date' to datetime and extract the date\n",
    "    df['date'] = pd.to_datetime(df['date']).dt.date\n",
    "\n",
    "    # Extract username from the nested 'user' dictionary\n",
    "    df['username'] = df['user'].apply(lambda x: x['username'])\n",
    "\n",
    "    # Group by 'date' and count tweets, get the most active user per date\n",
    "    top_dates_df = df.groupby('date').agg(\n",
    "        total_tweets=('date', 'size'),\n",
    "        most_active_user=('username', lambda x: x.mode()[0])\n",
    "    ).sort_values('total_tweets', ascending=False).head(10).drop(columns=['total_tweets'])\n",
    "\n",
    "    # Convert to the desired format [(date, most_active_user), ...]\n",
    "    top_dates = list(top_dates_df.itertuples(index=True, name=None))\n",
    "\n",
    "    return top_dates"
   ]
  },
  {
   "cell_type": "code",
   "execution_count": 11,
   "metadata": {},
   "outputs": [
    {
     "name": "stdout",
     "output_type": "stream",
     "text": [
      "[(datetime.date(2021, 2, 12), 'RanbirS00614606'), (datetime.date(2021, 2, 13), 'MaanDee08215437'), (datetime.date(2021, 2, 17), 'RaaJVinderkaur'), (datetime.date(2021, 2, 16), 'jot__b'), (datetime.date(2021, 2, 14), 'rebelpacifist'), (datetime.date(2021, 2, 18), 'neetuanjle_nitu'), (datetime.date(2021, 2, 15), 'jot__b'), (datetime.date(2021, 2, 20), 'MangalJ23056160'), (datetime.date(2021, 2, 23), 'Surrypuria'), (datetime.date(2021, 2, 19), 'Preetm91')]\n",
      "q1_time_pandas_revised - Execution Time: 7.851444482803345 seconds\n",
      "q1_time_pandas_revised - Peak Memory Usage: 2991.9140625 MiB\n"
     ]
    }
   ],
   "source": [
    "#Executing q1_time_pandas and printing the result\n",
    "top_dates = q1_time_pandas_revised(file_path)\n",
    "print(top_dates)\n",
    "\n",
    "# Timing and memory testing for q1_time\n",
    "start_time = time.time()\n",
    "peak_memory_time = max(memory_usage((q1_time_pandas_revised, (file_path,))))\n",
    "end_time = time.time()\n",
    "\n",
    "print(f\"q1_time_pandas_revised - Execution Time: {end_time - start_time} seconds\")\n",
    "print(f\"q1_time_pandas_revised - Peak Memory Usage: {peak_memory_time} MiB\")"
   ]
  },
  {
   "cell_type": "markdown",
   "metadata": {},
   "source": [
    "### First version of q1_memory using line by line reading and abandoning pandas"
   ]
  },
  {
   "cell_type": "code",
   "execution_count": 22,
   "metadata": {},
   "outputs": [],
   "source": [
    "def q1_memory(file_path: str):\n",
    "    tweet_counts = Counter()\n",
    "    user_activity = defaultdict(Counter)\n",
    "\n",
    "    # Read and process the JSON file\n",
    "    with open(file_path, 'r') as file:\n",
    "        for line in file:\n",
    "            tweet = json.loads(line)\n",
    "            date = datetime.fromisoformat(tweet['date']).date()\n",
    "            username = tweet['user']['username']\n",
    "\n",
    "            # Count tweets per date and track user activity\n",
    "            tweet_counts[date] += 1\n",
    "            user_activity[date][username] += 1\n",
    "\n",
    "    # Identify top 10 dates\n",
    "    top_dates = tweet_counts.most_common(10)\n",
    "\n",
    "    # Find the most active user for each top date\n",
    "    top_dates = [(date, user_activity[date].most_common(1)[0][0]) for date, _ in top_dates]\n",
    "\n",
    "    return top_dates"
   ]
  },
  {
   "cell_type": "code",
   "execution_count": 23,
   "metadata": {},
   "outputs": [
    {
     "name": "stdout",
     "output_type": "stream",
     "text": [
      "[(datetime.date(2021, 2, 12), 'RanbirS00614606'), (datetime.date(2021, 2, 13), 'MaanDee08215437'), (datetime.date(2021, 2, 17), 'RaaJVinderkaur'), (datetime.date(2021, 2, 16), 'jot__b'), (datetime.date(2021, 2, 14), 'rebelpacifist'), (datetime.date(2021, 2, 18), 'neetuanjle_nitu'), (datetime.date(2021, 2, 15), 'jot__b'), (datetime.date(2021, 2, 20), 'MangalJ23056160'), (datetime.date(2021, 2, 23), 'Surrypuria'), (datetime.date(2021, 2, 19), 'Preetm91')]\n",
      "q1_memory - Execution Time: 3.816939115524292 seconds\n",
      "q1_memory - Peak Memory Usage: 59.87109375 MiB\n"
     ]
    }
   ],
   "source": [
    "#Executing q1_time_pandas and printing the result\n",
    "top_dates = q1_memory(file_path)\n",
    "print(top_dates)\n",
    "\n",
    "# Timing and memory testing for q1_memory\n",
    "start_time = time.time()\n",
    "peak_memory_memory = max(memory_usage((q1_memory, (file_path,))))\n",
    "end_time = time.time()\n",
    "\n",
    "print(f\"q1_memory - Execution Time: {end_time - start_time} seconds\")\n",
    "print(f\"q1_memory - Peak Memory Usage: {peak_memory_memory} MiB\")"
   ]
  },
  {
   "cell_type": "markdown",
   "metadata": {},
   "source": [
    "## Q2 Time and Memory solution"
   ]
  },
  {
   "cell_type": "markdown",
   "metadata": {},
   "source": [
    "### Q2 Pandas approach"
   ]
  },
  {
   "cell_type": "code",
   "execution_count": 44,
   "metadata": {},
   "outputs": [],
   "source": [
    "def q2_pandas(file_path: str) -> List[Tuple[str, int]]:\n",
    "    # Define the emoji pattern\n",
    "    emoji_pattern = re.compile('[\\U0001F600-\\U0001F64F]')\n",
    "\n",
    "    # Load the dataset into a DataFrame\n",
    "    df = pd.read_json(file_path, lines=True)\n",
    "\n",
    "    # Extract emojis from the 'content' field\n",
    "    df['emojis'] = df['content'].apply(lambda x: emoji_pattern.findall(x))\n",
    "\n",
    "    # Explode the DataFrame to have one emoji per row\n",
    "    df_emojis = df.explode('emojis')\n",
    "\n",
    "    # Count the occurrences of each emoji and get the top 10\n",
    "    top_emojis = df_emojis['emojis'].value_counts().head(10)\n",
    "\n",
    "    return top_emojis.reset_index().rename(columns={'index': 'emoji', 'emojis': 'count'})\n"
   ]
  },
  {
   "cell_type": "code",
   "execution_count": 46,
   "metadata": {},
   "outputs": [
    {
     "name": "stdout",
     "output_type": "stream",
     "text": [
      "   count  count\n",
      "0      🙏   7286\n",
      "1      😂   3072\n",
      "2      😡    378\n",
      "3      😁    280\n",
      "4      😊    259\n",
      "5      😢    225\n",
      "6      🙄    219\n",
      "7      🙌    215\n",
      "8      😀    213\n",
      "9      😜    202\n",
      "q2_pandas - Execution Time: 8.545934915542603 seconds\n",
      "q2_pandas - Peak Memory Usage: 3149.39453125 MiB\n"
     ]
    }
   ],
   "source": [
    "#Executing q2_pandas and printing the result\n",
    "top_emojis_df = q2_pandas(file_path)\n",
    "print(top_emojis_df)\n",
    "# Timing and memory testing for q1_memory\n",
    "start_time = time.time()\n",
    "peak_memory_memory = max(memory_usage((q2_pandas, (file_path,))))\n",
    "end_time = time.time()\n",
    "\n",
    "print(f\"q2_pandas - Execution Time: {end_time - start_time} seconds\")\n",
    "print(f\"q2_pandas - Peak Memory Usage: {peak_memory_memory} MiB\")"
   ]
  },
  {
   "cell_type": "markdown",
   "metadata": {},
   "source": [
    "### Q2 Time, using regex to reduce the execution time"
   ]
  },
  {
   "cell_type": "code",
   "execution_count": 50,
   "metadata": {},
   "outputs": [],
   "source": [
    "def q2_time(file_path: str) -> List[Tuple[str, int]]:\n",
    "    emoji_counter = Counter()\n",
    "    emoji_pattern = re.compile('[\\U0001F600-\\U0001F64F]')  # Basic emoji pattern\n",
    "\n",
    "    with open(file_path, 'r') as file:\n",
    "        data = file.readlines()\n",
    "\n",
    "    for line in data:\n",
    "        tweet = json.loads(line)\n",
    "        content = tweet.get('content', '')\n",
    "        emojis = emoji_pattern.findall(content)\n",
    "        emoji_counter.update(emojis)\n",
    "\n",
    "    top_emojis = emoji_counter.most_common(10)\n",
    "    return top_emojis"
   ]
  },
  {
   "cell_type": "code",
   "execution_count": 54,
   "metadata": {},
   "outputs": [
    {
     "name": "stdout",
     "output_type": "stream",
     "text": [
      "[('🙏', 7286), ('😂', 3072), ('😡', 378), ('😁', 280), ('😊', 259), ('😢', 225), ('🙄', 219), ('🙌', 215), ('😀', 213), ('😜', 202)]\n",
      "q2_time - Execution Time: 4.186179161071777 seconds\n",
      "q2_time - Peak Memory Usage: 532.83984375 MiB\n"
     ]
    }
   ],
   "source": [
    "#Executing q2_time and printing the result\n",
    "top_emojis = q2_time(file_path)\n",
    "print(top_emojis)\n",
    "# Timing and memory testing for q1_memory\n",
    "start_time = time.time()\n",
    "peak_memory_memory = max(memory_usage((q2_time, (file_path,))))\n",
    "end_time = time.time()\n",
    "\n",
    "print(f\"q2_time - Execution Time: {end_time - start_time} seconds\")\n",
    "print(f\"q2_time - Peak Memory Usage: {peak_memory_memory} MiB\")"
   ]
  }
 ],
 "metadata": {
  "kernelspec": {
   "display_name": "base",
   "language": "python",
   "name": "python3"
  },
  "language_info": {
   "codemirror_mode": {
    "name": "ipython",
    "version": 3
   },
   "file_extension": ".py",
   "mimetype": "text/x-python",
   "name": "python",
   "nbconvert_exporter": "python",
   "pygments_lexer": "ipython3",
   "version": "3.11.5"
  }
 },
 "nbformat": 4,
 "nbformat_minor": 2
}
